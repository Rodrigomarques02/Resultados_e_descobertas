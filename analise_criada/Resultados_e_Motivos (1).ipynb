{
  "nbformat": 4,
  "nbformat_minor": 0,
  "metadata": {
    "colab": {
      "provenance": []
    },
    "kernelspec": {
      "name": "python3",
      "display_name": "Python 3"
    },
    "language_info": {
      "name": "python"
    }
  },
  "cells": [
    {
      "cell_type": "markdown",
      "source": [
        "# <font color = orange > Analise Explaroratoria da empresa e motivos de saidas dos funcionarios."
      ],
      "metadata": {
        "id": "DQk0p5hWWlya"
      }
    },
    {
      "cell_type": "markdown",
      "source": [
        "- Esse arquivo está sendo criado para mostrar o relatorio de saidas dos funcionarios da empresa e nele sera usado o Pandas que é uma biblioteca de software escrita para a linguagem de programação Python que fornece recursos de manipulação e análise de dados.NumPy, que significa Numerical Python, é um pacote fundamental para computação científica em Python.Matplotlib é uma biblioteca multiplataforma e multifuncional capaz de produzir gráficos estáticos, animados e interativos em vários estilos, formatos e mídias\n"
      ],
      "metadata": {
        "id": "dQx3RWafW88H"
      }
    },
    {
      "cell_type": "markdown",
      "source": [
        "- Importando as blibliotecas que serao usadas para analise de demisao desse projeto."
      ],
      "metadata": {
        "id": "YXlLLoz7bOrk"
      }
    },
    {
      "cell_type": "code",
      "execution_count": 3,
      "metadata": {
        "id": "Uf00YRoWO9Cc"
      },
      "outputs": [],
      "source": [
        "import pandas as pd\n",
        "import numpy as np\n"
      ]
    },
    {
      "cell_type": "markdown",
      "source": [
        "- Criando grafico com os dados fornecidos pela empresa assim tendo melhores insights e facilidade de visualizao com isso conseguimos dar melhores explicacoes sobre o projeto e motivos por suas demisoes."
      ],
      "metadata": {
        "id": "ootV4VakaaVI"
      }
    },
    {
      "cell_type": "code",
      "source": [
        "Resultados_e_Descobertas = {'Causas de saida ' : ['Treinamento','Conflito com outros', 'Falta de reconhecimento', 'Carga horaria', 'Progressao de carreira', 'Remuneracao', 'Tipo de trabalho', 'Mudanca de carreira','Trajeto', 'Realocaçao','Doença'],\n",
        "                      'Capacidade de impactar'  : [11, 10, 9, 8, 7, 6, 5, 4, 3, 2, 1],\n",
        "                      'Recursos humanos' : [31,11,65,14,137,16,128,18,31,105,9],\n",
        "                      'Entrevistas de saida' :[23 ,15, 44, 39, 171, 24, 78, 30 ,22, 37, 21]}\n",
        "\n",
        "relatorio = pd.DataFrame(Resultados_e_Descobertas, index= [0,1,2,3,4,5,6,7,8,9,10])\n",
        "relatorio"
      ],
      "metadata": {
        "colab": {
          "base_uri": "https://localhost:8080/",
          "height": 446
        },
        "id": "o5zjZZ1GamI4",
        "outputId": "451a5df4-368e-4c92-e501-65c80e5e5752"
      },
      "execution_count": 4,
      "outputs": [
        {
          "output_type": "execute_result",
          "data": {
            "text/plain": [
              "           Causas de saida   Capacidade de impactar  Recursos humanos  \\\n",
              "0               Treinamento                      11                31   \n",
              "1       Conflito com outros                      10                11   \n",
              "2   Falta de reconhecimento                       9                65   \n",
              "3             Carga horaria                       8                14   \n",
              "4    Progressao de carreira                       7               137   \n",
              "5               Remuneracao                       6                16   \n",
              "6          Tipo de trabalho                       5               128   \n",
              "7       Mudanca de carreira                       4                18   \n",
              "8                   Trajeto                       3                31   \n",
              "9                Realocaçao                       2               105   \n",
              "10                   Doença                       1                 9   \n",
              "\n",
              "    Entrevistas de saida  \n",
              "0                     23  \n",
              "1                     15  \n",
              "2                     44  \n",
              "3                     39  \n",
              "4                    171  \n",
              "5                     24  \n",
              "6                     78  \n",
              "7                     30  \n",
              "8                     22  \n",
              "9                     37  \n",
              "10                    21  "
            ],
            "text/html": [
              "\n",
              "  <div id=\"df-f61f507f-d1ca-432a-b172-b94dd32c7a1e\" class=\"colab-df-container\">\n",
              "    <div>\n",
              "<style scoped>\n",
              "    .dataframe tbody tr th:only-of-type {\n",
              "        vertical-align: middle;\n",
              "    }\n",
              "\n",
              "    .dataframe tbody tr th {\n",
              "        vertical-align: top;\n",
              "    }\n",
              "\n",
              "    .dataframe thead th {\n",
              "        text-align: right;\n",
              "    }\n",
              "</style>\n",
              "<table border=\"1\" class=\"dataframe\">\n",
              "  <thead>\n",
              "    <tr style=\"text-align: right;\">\n",
              "      <th></th>\n",
              "      <th>Causas de saida</th>\n",
              "      <th>Capacidade de impactar</th>\n",
              "      <th>Recursos humanos</th>\n",
              "      <th>Entrevistas de saida</th>\n",
              "    </tr>\n",
              "  </thead>\n",
              "  <tbody>\n",
              "    <tr>\n",
              "      <th>0</th>\n",
              "      <td>Treinamento</td>\n",
              "      <td>11</td>\n",
              "      <td>31</td>\n",
              "      <td>23</td>\n",
              "    </tr>\n",
              "    <tr>\n",
              "      <th>1</th>\n",
              "      <td>Conflito com outros</td>\n",
              "      <td>10</td>\n",
              "      <td>11</td>\n",
              "      <td>15</td>\n",
              "    </tr>\n",
              "    <tr>\n",
              "      <th>2</th>\n",
              "      <td>Falta de reconhecimento</td>\n",
              "      <td>9</td>\n",
              "      <td>65</td>\n",
              "      <td>44</td>\n",
              "    </tr>\n",
              "    <tr>\n",
              "      <th>3</th>\n",
              "      <td>Carga horaria</td>\n",
              "      <td>8</td>\n",
              "      <td>14</td>\n",
              "      <td>39</td>\n",
              "    </tr>\n",
              "    <tr>\n",
              "      <th>4</th>\n",
              "      <td>Progressao de carreira</td>\n",
              "      <td>7</td>\n",
              "      <td>137</td>\n",
              "      <td>171</td>\n",
              "    </tr>\n",
              "    <tr>\n",
              "      <th>5</th>\n",
              "      <td>Remuneracao</td>\n",
              "      <td>6</td>\n",
              "      <td>16</td>\n",
              "      <td>24</td>\n",
              "    </tr>\n",
              "    <tr>\n",
              "      <th>6</th>\n",
              "      <td>Tipo de trabalho</td>\n",
              "      <td>5</td>\n",
              "      <td>128</td>\n",
              "      <td>78</td>\n",
              "    </tr>\n",
              "    <tr>\n",
              "      <th>7</th>\n",
              "      <td>Mudanca de carreira</td>\n",
              "      <td>4</td>\n",
              "      <td>18</td>\n",
              "      <td>30</td>\n",
              "    </tr>\n",
              "    <tr>\n",
              "      <th>8</th>\n",
              "      <td>Trajeto</td>\n",
              "      <td>3</td>\n",
              "      <td>31</td>\n",
              "      <td>22</td>\n",
              "    </tr>\n",
              "    <tr>\n",
              "      <th>9</th>\n",
              "      <td>Realocaçao</td>\n",
              "      <td>2</td>\n",
              "      <td>105</td>\n",
              "      <td>37</td>\n",
              "    </tr>\n",
              "    <tr>\n",
              "      <th>10</th>\n",
              "      <td>Doença</td>\n",
              "      <td>1</td>\n",
              "      <td>9</td>\n",
              "      <td>21</td>\n",
              "    </tr>\n",
              "  </tbody>\n",
              "</table>\n",
              "</div>\n",
              "    <div class=\"colab-df-buttons\">\n",
              "\n",
              "  <div class=\"colab-df-container\">\n",
              "    <button class=\"colab-df-convert\" onclick=\"convertToInteractive('df-f61f507f-d1ca-432a-b172-b94dd32c7a1e')\"\n",
              "            title=\"Convert this dataframe to an interactive table.\"\n",
              "            style=\"display:none;\">\n",
              "\n",
              "  <svg xmlns=\"http://www.w3.org/2000/svg\" height=\"24px\" viewBox=\"0 -960 960 960\">\n",
              "    <path d=\"M120-120v-720h720v720H120Zm60-500h600v-160H180v160Zm220 220h160v-160H400v160Zm0 220h160v-160H400v160ZM180-400h160v-160H180v160Zm440 0h160v-160H620v160ZM180-180h160v-160H180v160Zm440 0h160v-160H620v160Z\"/>\n",
              "  </svg>\n",
              "    </button>\n",
              "\n",
              "  <style>\n",
              "    .colab-df-container {\n",
              "      display:flex;\n",
              "      gap: 12px;\n",
              "    }\n",
              "\n",
              "    .colab-df-convert {\n",
              "      background-color: #E8F0FE;\n",
              "      border: none;\n",
              "      border-radius: 50%;\n",
              "      cursor: pointer;\n",
              "      display: none;\n",
              "      fill: #1967D2;\n",
              "      height: 32px;\n",
              "      padding: 0 0 0 0;\n",
              "      width: 32px;\n",
              "    }\n",
              "\n",
              "    .colab-df-convert:hover {\n",
              "      background-color: #E2EBFA;\n",
              "      box-shadow: 0px 1px 2px rgba(60, 64, 67, 0.3), 0px 1px 3px 1px rgba(60, 64, 67, 0.15);\n",
              "      fill: #174EA6;\n",
              "    }\n",
              "\n",
              "    .colab-df-buttons div {\n",
              "      margin-bottom: 4px;\n",
              "    }\n",
              "\n",
              "    [theme=dark] .colab-df-convert {\n",
              "      background-color: #3B4455;\n",
              "      fill: #D2E3FC;\n",
              "    }\n",
              "\n",
              "    [theme=dark] .colab-df-convert:hover {\n",
              "      background-color: #434B5C;\n",
              "      box-shadow: 0px 1px 3px 1px rgba(0, 0, 0, 0.15);\n",
              "      filter: drop-shadow(0px 1px 2px rgba(0, 0, 0, 0.3));\n",
              "      fill: #FFFFFF;\n",
              "    }\n",
              "  </style>\n",
              "\n",
              "    <script>\n",
              "      const buttonEl =\n",
              "        document.querySelector('#df-f61f507f-d1ca-432a-b172-b94dd32c7a1e button.colab-df-convert');\n",
              "      buttonEl.style.display =\n",
              "        google.colab.kernel.accessAllowed ? 'block' : 'none';\n",
              "\n",
              "      async function convertToInteractive(key) {\n",
              "        const element = document.querySelector('#df-f61f507f-d1ca-432a-b172-b94dd32c7a1e');\n",
              "        const dataTable =\n",
              "          await google.colab.kernel.invokeFunction('convertToInteractive',\n",
              "                                                    [key], {});\n",
              "        if (!dataTable) return;\n",
              "\n",
              "        const docLinkHtml = 'Like what you see? Visit the ' +\n",
              "          '<a target=\"_blank\" href=https://colab.research.google.com/notebooks/data_table.ipynb>data table notebook</a>'\n",
              "          + ' to learn more about interactive tables.';\n",
              "        element.innerHTML = '';\n",
              "        dataTable['output_type'] = 'display_data';\n",
              "        await google.colab.output.renderOutput(dataTable, element);\n",
              "        const docLink = document.createElement('div');\n",
              "        docLink.innerHTML = docLinkHtml;\n",
              "        element.appendChild(docLink);\n",
              "      }\n",
              "    </script>\n",
              "  </div>\n",
              "\n",
              "\n",
              "<div id=\"df-2065b0c2-7454-4412-bb2d-f2e3ab04b136\">\n",
              "  <button class=\"colab-df-quickchart\" onclick=\"quickchart('df-2065b0c2-7454-4412-bb2d-f2e3ab04b136')\"\n",
              "            title=\"Suggest charts.\"\n",
              "            style=\"display:none;\">\n",
              "\n",
              "<svg xmlns=\"http://www.w3.org/2000/svg\" height=\"24px\"viewBox=\"0 0 24 24\"\n",
              "     width=\"24px\">\n",
              "    <g>\n",
              "        <path d=\"M19 3H5c-1.1 0-2 .9-2 2v14c0 1.1.9 2 2 2h14c1.1 0 2-.9 2-2V5c0-1.1-.9-2-2-2zM9 17H7v-7h2v7zm4 0h-2V7h2v10zm4 0h-2v-4h2v4z\"/>\n",
              "    </g>\n",
              "</svg>\n",
              "  </button>\n",
              "\n",
              "<style>\n",
              "  .colab-df-quickchart {\n",
              "      --bg-color: #E8F0FE;\n",
              "      --fill-color: #1967D2;\n",
              "      --hover-bg-color: #E2EBFA;\n",
              "      --hover-fill-color: #174EA6;\n",
              "      --disabled-fill-color: #AAA;\n",
              "      --disabled-bg-color: #DDD;\n",
              "  }\n",
              "\n",
              "  [theme=dark] .colab-df-quickchart {\n",
              "      --bg-color: #3B4455;\n",
              "      --fill-color: #D2E3FC;\n",
              "      --hover-bg-color: #434B5C;\n",
              "      --hover-fill-color: #FFFFFF;\n",
              "      --disabled-bg-color: #3B4455;\n",
              "      --disabled-fill-color: #666;\n",
              "  }\n",
              "\n",
              "  .colab-df-quickchart {\n",
              "    background-color: var(--bg-color);\n",
              "    border: none;\n",
              "    border-radius: 50%;\n",
              "    cursor: pointer;\n",
              "    display: none;\n",
              "    fill: var(--fill-color);\n",
              "    height: 32px;\n",
              "    padding: 0;\n",
              "    width: 32px;\n",
              "  }\n",
              "\n",
              "  .colab-df-quickchart:hover {\n",
              "    background-color: var(--hover-bg-color);\n",
              "    box-shadow: 0 1px 2px rgba(60, 64, 67, 0.3), 0 1px 3px 1px rgba(60, 64, 67, 0.15);\n",
              "    fill: var(--button-hover-fill-color);\n",
              "  }\n",
              "\n",
              "  .colab-df-quickchart-complete:disabled,\n",
              "  .colab-df-quickchart-complete:disabled:hover {\n",
              "    background-color: var(--disabled-bg-color);\n",
              "    fill: var(--disabled-fill-color);\n",
              "    box-shadow: none;\n",
              "  }\n",
              "\n",
              "  .colab-df-spinner {\n",
              "    border: 2px solid var(--fill-color);\n",
              "    border-color: transparent;\n",
              "    border-bottom-color: var(--fill-color);\n",
              "    animation:\n",
              "      spin 1s steps(1) infinite;\n",
              "  }\n",
              "\n",
              "  @keyframes spin {\n",
              "    0% {\n",
              "      border-color: transparent;\n",
              "      border-bottom-color: var(--fill-color);\n",
              "      border-left-color: var(--fill-color);\n",
              "    }\n",
              "    20% {\n",
              "      border-color: transparent;\n",
              "      border-left-color: var(--fill-color);\n",
              "      border-top-color: var(--fill-color);\n",
              "    }\n",
              "    30% {\n",
              "      border-color: transparent;\n",
              "      border-left-color: var(--fill-color);\n",
              "      border-top-color: var(--fill-color);\n",
              "      border-right-color: var(--fill-color);\n",
              "    }\n",
              "    40% {\n",
              "      border-color: transparent;\n",
              "      border-right-color: var(--fill-color);\n",
              "      border-top-color: var(--fill-color);\n",
              "    }\n",
              "    60% {\n",
              "      border-color: transparent;\n",
              "      border-right-color: var(--fill-color);\n",
              "    }\n",
              "    80% {\n",
              "      border-color: transparent;\n",
              "      border-right-color: var(--fill-color);\n",
              "      border-bottom-color: var(--fill-color);\n",
              "    }\n",
              "    90% {\n",
              "      border-color: transparent;\n",
              "      border-bottom-color: var(--fill-color);\n",
              "    }\n",
              "  }\n",
              "</style>\n",
              "\n",
              "  <script>\n",
              "    async function quickchart(key) {\n",
              "      const quickchartButtonEl =\n",
              "        document.querySelector('#' + key + ' button');\n",
              "      quickchartButtonEl.disabled = true;  // To prevent multiple clicks.\n",
              "      quickchartButtonEl.classList.add('colab-df-spinner');\n",
              "      try {\n",
              "        const charts = await google.colab.kernel.invokeFunction(\n",
              "            'suggestCharts', [key], {});\n",
              "      } catch (error) {\n",
              "        console.error('Error during call to suggestCharts:', error);\n",
              "      }\n",
              "      quickchartButtonEl.classList.remove('colab-df-spinner');\n",
              "      quickchartButtonEl.classList.add('colab-df-quickchart-complete');\n",
              "    }\n",
              "    (() => {\n",
              "      let quickchartButtonEl =\n",
              "        document.querySelector('#df-2065b0c2-7454-4412-bb2d-f2e3ab04b136 button');\n",
              "      quickchartButtonEl.style.display =\n",
              "        google.colab.kernel.accessAllowed ? 'block' : 'none';\n",
              "    })();\n",
              "  </script>\n",
              "</div>\n",
              "    </div>\n",
              "  </div>\n"
            ]
          },
          "metadata": {},
          "execution_count": 4
        }
      ]
    },
    {
      "cell_type": "markdown",
      "source": [
        "- Parte feita pra obter resultados do grafico tendo os motivos de maiores saidas da empresa sendo na entrevista de saida e na parte de recursos humanos e o relatorio sobre a capacidade de impactar assim podemos ter melhor insights sabendo o que esta acontecendo na empresa."
      ],
      "metadata": {
        "id": "fO5SZIyuHXg0"
      }
    },
    {
      "cell_type": "code",
      "source": [
        "relatorio['Entrevistas de saida'].max()"
      ],
      "metadata": {
        "colab": {
          "base_uri": "https://localhost:8080/"
        },
        "id": "9FIKC954_04g",
        "outputId": "c3ee874e-a7a9-4e66-e7d9-b2bede3edde5"
      },
      "execution_count": 5,
      "outputs": [
        {
          "output_type": "execute_result",
          "data": {
            "text/plain": [
              "171"
            ]
          },
          "metadata": {},
          "execution_count": 5
        }
      ]
    },
    {
      "cell_type": "code",
      "source": [
        "relatorio['Recursos humanos']. max()"
      ],
      "metadata": {
        "colab": {
          "base_uri": "https://localhost:8080/"
        },
        "id": "2oDdUJKEAbAT",
        "outputId": "873ec25d-9348-4975-ec47-a8acf87af2e5"
      },
      "execution_count": 6,
      "outputs": [
        {
          "output_type": "execute_result",
          "data": {
            "text/plain": [
              "137"
            ]
          },
          "metadata": {},
          "execution_count": 6
        }
      ]
    },
    {
      "cell_type": "code",
      "source": [
        "relatorio['Capacidade de impactar']. max()"
      ],
      "metadata": {
        "colab": {
          "base_uri": "https://localhost:8080/"
        },
        "id": "CbSXP5L0ZFJw",
        "outputId": "6899d2c0-2cbc-451b-a45c-fa64ae9c3556"
      },
      "execution_count": 7,
      "outputs": [
        {
          "output_type": "execute_result",
          "data": {
            "text/plain": [
              "11"
            ]
          },
          "metadata": {},
          "execution_count": 7
        }
      ]
    },
    {
      "cell_type": "markdown",
      "source": [
        "##O que está sendo mostrado aqui?"
      ],
      "metadata": {
        "id": "qdZzyqdHn10s"
      }
    },
    {
      "cell_type": "markdown",
      "source": [
        "![image.png](https://github.com/Rodrigomarques02/Resultados_e_descobertas/blob/main/graficos_usados/2023-08-30%20(5).png?raw=true)"
      ],
      "metadata": {
        "id": "I1eirSFFoD-F"
      }
    },
    {
      "cell_type": "markdown",
      "source": [
        "- Acima podemos ver um grafico de bolhas que mostra o relatorio de saidas dos funcionarios da empresa sua capacidade de impactar e seus motivos que sao Treinamento, Conflito com outros, Falta de reconhecimento, Carga horária, Progressão de carreira,Remuneração, Tipo de trabalho, Mudança de carreira, Trajeto ,Realocação, Doença.\n",
        "Ao olhar pode se parecer dificil de entender o grafico de bolha por isso usaria o de barra pra facilitar na vizualizao e facilitar pras pessoas que nao tem o conhecimneto em leitura de graficos pois a atenção humana é um recurso limitado\n",
        "e quanto mais facil a leitura do grafico mais facil fica a compreensao naquilo que esta sendo mostrado.\n"
      ],
      "metadata": {
        "id": "a44-shp7xThm"
      }
    },
    {
      "cell_type": "markdown",
      "source": [
        "## Que observações você pode fazer a partir desses dados?\n",
        "\n",
        "\n",
        "\n"
      ],
      "metadata": {
        "id": "2YPzN83p3TyG"
      }
    },
    {
      "cell_type": "markdown",
      "source": [
        "- Com os dados obtidos no grafico podemos analisar as causas de saida da empresa a Capacidade de impactar, as causas de saidas da empresa tem bastantes divergencias quando sao feitas pelo RH e quando elas fazem por si so, analisando o grafico podemos ve o quanto as pessoas querem crescer na empresa pois e esse motivo que mais causa a saida delas o progresso de carreira."
      ],
      "metadata": {
        "id": "rz7lEZzS3iO-"
      }
    },
    {
      "cell_type": "markdown",
      "source": [
        "- Gráficos de barras usa o comprimento para representar as medidas. Seres\n",
        "humanos são excelentes para identificar diferenças de comprimentos de uma\n",
        "mesma base. Esse tipo de gráfico é muito efetivo para comparar categorias."
      ],
      "metadata": {
        "id": "vq48E_Yr2g1D"
      }
    },
    {
      "cell_type": "markdown",
      "source": [
        "![image.png](https://github.com/Rodrigomarques02/Resultados_e_descobertas/blob/main/graficos_usados/2023-09-01.png?raw=true)"
      ],
      "metadata": {
        "id": "cLOAP7ucz0aD"
      }
    },
    {
      "cell_type": "markdown",
      "source": [
        "## O que não é ideal ou poderia ser evitado na visualização em sua forma atual? Que perguntas você faria ou que feedback daria para quem fez o gráfico?"
      ],
      "metadata": {
        "id": "i9AYEqLB5_Oz"
      }
    },
    {
      "cell_type": "markdown",
      "source": [
        "- Eu acho que nesse grafico poderia ter mudado a cor que indica o que cada causa de saida indica pois por serem parecidas acaba confundindo vizualmente.\n",
        "Quando foi criar o grafico por que nao optou por colocar um grafico de barras nao acharia melhor e mais facil a entender?\n"
      ],
      "metadata": {
        "id": "2X6Lom7g6EdB"
      }
    },
    {
      "cell_type": "markdown",
      "source": [
        "# Crie três maneiras diferentes de mostrar esses dados e liste quais são algumas vantagens e insuficiências de cada uma."
      ],
      "metadata": {
        "id": "Hoju_44r8olt"
      }
    },
    {
      "cell_type": "markdown",
      "source": [
        "- Grafico de barras onde podemos analisar que temos as repostas dos Recursos humanos e das intrevistas de saidas e a capacidade de impactar nele podemos analisar com mais facilidade cada dado nele obtido com isso podemos obter insights mais certos e com isso obtendo melhores resultados e menas chances de erros.\n",
        "Um ponto que devemos tomar cuidado e que como podemos ver quando se tem bastante informacoes no grafico de barras ele acaba escondendo algumas informacoes com isso atrapalha na visualizacao e na hora de explicar."
      ],
      "metadata": {
        "id": "bjllb7ac-3G8"
      }
    },
    {
      "cell_type": "markdown",
      "source": [
        "![image.png](https://github.com/Rodrigomarques02/Resultados_e_descobertas/blob/main/graficos_usados/2023-09-01.png?raw=true)"
      ],
      "metadata": {
        "id": "H7CgFDyt88Ze"
      }
    },
    {
      "cell_type": "markdown",
      "source": [
        "- Grafico de arvore\n",
        "O gráfico de árvore,  conhecido como \"treemap\", e tambem conhecidos como árvores de decisão ou diagramas de árvore, têm várias vantagens quando se trata de representar dados ou informações complexas de forma hierárquica. Aqui estão algumas das principais vantagens dos gráficos de árvore Estrutura Hierárquica Clara os gráficos de árvore organizam dados ou informações em uma estrutura hierárquica, o que facilita a compreensão de relações complexas entre diferentes categorias ou elementos. Isso torna mais fácil para os usuários identificarem a relação de subordinação e agrupamento entre os elementos,Uma desvantagem significativa dos gráficos de árvore especialmente no contexto de visualização de dados, como árvores de treemap é a seguinte dificuldade em Comparar Proporções e Tamanhos."
      ],
      "metadata": {
        "id": "9fpNQG69Bbmp"
      }
    },
    {
      "cell_type": "markdown",
      "source": [
        "![image.png](https://github.com/Rodrigomarques02/Resultados_e_descobertas/blob/main/graficos_usados/2023-09-01%20(2).png?raw=true)"
      ],
      "metadata": {
        "id": "dT7JYBal9L8D"
      }
    },
    {
      "cell_type": "markdown",
      "source": [
        "- Grafico de barra empilhada.\n",
        "Os gráficos de barras empilhadas podem ser uma ferramenta útil para representar dados em algumas situações, mas também têm algumas limitações um ponto positivo e a sua comparação de partes para o todo, mais tambem tem seu grande problema com sua dificuldade em comparar categorias esportivas."
      ],
      "metadata": {
        "id": "fiDevtt5BkzO"
      }
    },
    {
      "cell_type": "markdown",
      "source": [
        "![image.png](https://github.com/Rodrigomarques02/Resultados_e_descobertas/blob/main/graficos_usados/2023-09-01%20(3).png?raw=true)"
      ],
      "metadata": {
        "id": "Oq0wli3R9a0r"
      }
    },
    {
      "cell_type": "markdown",
      "source": [
        "# Qual visualização representa melhor os dados e por quê?"
      ],
      "metadata": {
        "id": "1zQh0KjsBzFz"
      }
    },
    {
      "cell_type": "markdown",
      "source": [
        "- O gráficos de barras pois usa o comprimento para representar as medidas,seres\n",
        "humanos são excelentes para identificar diferenças de comprimentos de uma\n",
        "mesma base, esse tipo de gráfico é muito efetivo para comparar categorias a atenção humana é um recurso limitado entao quanto mais facil a visualizacao dos dado podemos aumentar a eficiência do ser humano no processo de\n",
        "análise de dados e tomada de decisão."
      ],
      "metadata": {
        "id": "N-gg5FNtCCdg"
      }
    },
    {
      "cell_type": "markdown",
      "source": [
        "#  Como você pode gerar essas informações em uma história orientada por dados para seu chefe?"
      ],
      "metadata": {
        "id": "spQJ_4Y9DJu4"
      }
    },
    {
      "cell_type": "markdown",
      "source": [
        "- Querendo mostrar a importancia de uma grafico com melhor vizualicao criei um grafico de barras com os dados obtidos pela empresa e nele eu pude obter resultados que ajudam a ter respostas bastantes significativas, podemos analizar que em progressao de carreira  tivemos 171 votos nas Entrevistas de saida  comparados com os 137 votos do Recursos humanos mostrando que se tivermos a mesma quantidade de entrevistados nos 2 podemos ver que tem divergencias é bom preucuramos o motivo de saber o real motivo se as pessoas realmente estao querendo crescer na empresa, por que elas nao estao crescendo e sim saindo, sera que nao tem cargos maiores ou sera que nao tem oportunidades pra que possam crescer e um ponto bastante importante a ser avaliado.\n",
        "Outro ponto a ser bastante avaliado é a realocacao muitas das vezes uma pessoa pode ser realocada pra um lugar mais disntante da sua residencia e isso acaba desmotivando e ate mesmo fazendo com que a pessoa saia da empresa pois seu tempo de locomocao aumenta trazendo mais desgaste ao longo do tempo."
      ],
      "metadata": {
        "id": "67D4QagmD3XM"
      }
    }
  ]
}